{
 "cells": [
  {
   "cell_type": "markdown",
   "metadata": {},
   "source": [
    "## Реализация логики XOR "
   ]
  },
  {
   "cell_type": "code",
   "execution_count": 161,
   "metadata": {},
   "outputs": [],
   "source": [
    "import tensorflow as tf\n",
    "import tensorflow.compat.v1 as v1\n",
    "import numpy as np"
   ]
  },
  {
   "cell_type": "code",
   "execution_count": 162,
   "metadata": {},
   "outputs": [],
   "source": [
    "x_ = v1.placeholder(tf.float32, shape=[4, 2], name='x-input')\n",
    "y_ = v1.placeholder(tf.float32, shape=[4, 1], name='y-input')"
   ]
  },
  {
   "cell_type": "code",
   "execution_count": 163,
   "metadata": {},
   "outputs": [],
   "source": [
    "w1 = v1.Variable(v1.random_uniform([2, 2], -1, 1), name='Weights1')\n",
    "w2 = v1.Variable(v1.random_uniform([2, 1], -1, 1), name='Weights2')"
   ]
  },
  {
   "cell_type": "code",
   "execution_count": 164,
   "metadata": {},
   "outputs": [],
   "source": [
    "b1 = v1.Variable(v1.zeros([2]), name='Bias1')\n",
    "b2 = v1.Variable(v1.zeros([1]), name='Bias2')"
   ]
  },
  {
   "cell_type": "code",
   "execution_count": 165,
   "metadata": {},
   "outputs": [],
   "source": [
    "z2 = v1.sigmoid(v1.matmul(x_, w1) + b1)\n",
    "pred = v1.sigmoid(v1.matmul(z2, w2) + b2)"
   ]
  },
  {
   "cell_type": "code",
   "execution_count": 170,
   "metadata": {},
   "outputs": [],
   "source": [
    "cost = tf.reduce_mean(( (y_ * v1.log(pred)) + (1 - y_) * v1.log(1.0 - pred)) * -1)\n",
    "# cost = tf.reduce_mean(tf.square(y_ - pred))\n",
    "learning_rate = 0.01\n",
    "train_step = v1.train.GradientDescentOptimizer(learning_rate).minimize(cost)"
   ]
  },
  {
   "cell_type": "code",
   "execution_count": 171,
   "metadata": {},
   "outputs": [],
   "source": [
    "XOR_X = [[0, 0], [0, 1], [1, 0], [1, 1]]\n",
    "XOR_Y = [[0], [1], [1], [0]]"
   ]
  },
  {
   "cell_type": "code",
   "execution_count": 172,
   "metadata": {},
   "outputs": [],
   "source": [
    "init =  v1.initialize_all_variables()\n",
    "sess = v1.Session()\n",
    "\n",
    "sess.run(init)\n",
    "for i in range(10000):\n",
    "    sess.run(train_step, feed_dict={x_ : XOR_X, y_: XOR_Y})"
   ]
  },
  {
   "cell_type": "code",
   "execution_count": 173,
   "metadata": {},
   "outputs": [
    {
     "name": "stdout",
     "output_type": "stream",
     "text": [
      "Final prediction  [[0.4980564]\n",
      " [0.4971805]\n",
      " [0.5029651]\n",
      " [0.5020788]]\n"
     ]
    }
   ],
   "source": [
    "print('Final prediction ', sess.run(pred, feed_dict={x_: XOR_X, y_: XOR_Y}))"
   ]
  },
  {
   "cell_type": "code",
   "execution_count": null,
   "metadata": {},
   "outputs": [],
   "source": []
  }
 ],
 "metadata": {
  "kernelspec": {
   "display_name": "Python 3",
   "language": "python",
   "name": "python3"
  },
  "language_info": {
   "codemirror_mode": {
    "name": "ipython",
    "version": 3
   },
   "file_extension": ".py",
   "mimetype": "text/x-python",
   "name": "python",
   "nbconvert_exporter": "python",
   "pygments_lexer": "ipython3",
   "version": "3.8.5"
  }
 },
 "nbformat": 4,
 "nbformat_minor": 4
}
