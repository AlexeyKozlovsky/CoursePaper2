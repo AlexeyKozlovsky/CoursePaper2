{
 "cells": [
  {
   "cell_type": "code",
   "execution_count": 1,
   "id": "b4367b03",
   "metadata": {},
   "outputs": [],
   "source": [
    "import sys\n",
    "import matplotlib.pyplot as plt\n",
    "import numpy as np\n",
    "import pandas as pd"
   ]
  },
  {
   "cell_type": "code",
   "execution_count": 3,
   "id": "e0caa175",
   "metadata": {},
   "outputs": [],
   "source": [
    "report = pd.read_csv('report2.csv')\n",
    "authors = report['author'].unique()"
   ]
  },
  {
   "cell_type": "code",
   "execution_count": 5,
   "id": "d634ae4e",
   "metadata": {},
   "outputs": [],
   "source": [
    "data = np.zeros((report.shape[0]))\n",
    "for i, row in report.iterrows():\n",
    "    data[i] = np.sqrt(row['velocity_x'] ** 2 + row['velocity_y'] ** 2)\n",
    "velocity_df = pd.DataFrame(columns=['velocity'], data=data)\n",
    "\n",
    "report = pd.concat([report, velocity_df], axis=1)"
   ]
  },
  {
   "cell_type": "code",
   "execution_count": 10,
   "id": "ef752fb7",
   "metadata": {},
   "outputs": [
    {
     "data": {
      "text/plain": [
       "array(['Блог Насти Каменских', 'Психолог Вероника Степанова'],\n",
       "      dtype=object)"
      ]
     },
     "execution_count": 10,
     "metadata": {},
     "output_type": "execute_result"
    }
   ],
   "source": [
    "report['author'].unique()"
   ]
  },
  {
   "cell_type": "code",
   "execution_count": 17,
   "id": "72077ef5",
   "metadata": {},
   "outputs": [
    {
     "data": {
      "text/plain": [
       "[<matplotlib.lines.Line2D at 0x7f51e0bb0ee0>]"
      ]
     },
     "execution_count": 17,
     "metadata": {},
     "output_type": "execute_result"
    },
    {
     "data": {
      "image/png": "[encoded data removed]",
      "text/plain": [
       "<Figure size 432x288 with 1 Axes>"
      ]
     },
     "metadata": {
      "needs_background": "light"
     },
     "output_type": "display_data"
    }
   ],
   "source": [
    "fig, ax = plt.subplots()\n",
    "ax.semilogy(2, 3)"
   ]
  },
  {
   "cell_type": "code",
   "execution_count": 21,
   "id": "93335df9",
   "metadata": {},
   "outputs": [
    {
     "name": "stdout",
     "output_type": "stream",
     "text": [
      "привет\n",
      "спасибо\n",
      "что\n",
      "что\n",
      "что\n",
      "смотрите\n",
      "видеоблог\n",
      "неожиданным\n",
      "образом\n",
      "хочу\n",
      "себя\n",
      "в\n",
      "в\n",
      "хорошей\n",
      "форме\n",
      "я\n",
      "я\n",
      "я\n",
      "я\n",
      "я\n",
      "за\n",
      "за\n",
      "два\n",
      "два\n",
      "два\n",
      "месяца\n",
      "месяца\n",
      "похудеть\n",
      "специалистов\n",
      "этого\n",
      "этого\n",
      "процесса\n",
      "вы\n",
      "вы\n",
      "сможете\n",
      "увидеть\n",
      "чтобы\n",
      "чтобы\n",
      "чтобы\n",
      "сбросить\n",
      "лишний\n",
      "вес\n",
      "буду\n",
      "ходить\n",
      "ходить\n",
      "спортзал\n",
      "режима\n",
      "питания\n",
      "бассейн\n",
      "массаж\n",
      "будете\n",
      "видеть\n",
      "как\n",
      "и\n",
      "тем\n",
      "года\n",
      "года\n",
      "три\n",
      "назад\n",
      "на\n",
      "на\n",
      "четыре\n",
      "их\n",
      "эти\n",
      "джинсы\n",
      "доказать\n",
      "это\n",
      "моим\n",
      "блогом\n",
      "полная\n",
      "версия\n",
      "можете\n",
      "посмотреть\n",
      "мои\n",
      "страничке\n",
      "фейсбуке\n",
      "а\n",
      "также\n",
      "новости\n",
      "свежими\n",
      "меня\n",
      "зовут\n",
      "вероника\n",
      "степанова\n",
      "золотой\n",
      "дождь\n",
      "начнём\n",
      "с\n",
      "самого\n",
      "самого\n",
      "так\n",
      "снежок\n",
      "передают\n",
      "сперму\n",
      "изо\n",
      "рта\n",
      "в\n",
      "рот\n",
      "дальше\n",
      "дальше\n",
      "милан\n",
      "кап\n",
      "две\n",
      "девочки\n",
      "и\n",
      "одна\n",
      "чашечка\n",
      "моё\n",
      "влагалище\n",
      "слишком\n",
      "щит\n",
      "щит\n",
      "ну\n",
      "что\n",
      "что\n",
      "такого\n",
      "такого\n",
      "страшного\n",
      "этом\n",
      "анусе\n",
      "может\n",
      "происходить\n",
      "ужасного\n",
      "если\n",
      "я\n",
      "буду\n",
      "засовывать\n",
      "туда\n",
      "пальчик\n",
      "пальчик\n",
      "кал\n",
      "менструальные\n",
      "выделения\n",
      "слюна\n",
      "рвота\n",
      "боюсь\n",
      "полизать\n",
      "своей\n",
      "своей\n",
      "страх\n",
      "ведь\n",
      "это\n",
      "такая\n",
      "малость\n",
      "всего\n",
      "лишь\n",
      "оставить\n",
      "скушать\n",
      "или\n",
      "целовать\n",
      "пищу\n",
      "собаки\n",
      "такие\n",
      "вот\n",
      "дела\n",
      "сегодня\n",
      "своих\n",
      "консультациях\n"
     ]
    }
   ],
   "source": [
    "for i, row in report.iterrows():\n",
    "    print(row['word'])"
   ]
  },
  {
   "cell_type": "code",
   "execution_count": 16,
   "id": "73194326",
   "metadata": {},
   "outputs": [
    {
     "ename": "AttributeError",
     "evalue": "'AxesSubplot' object has no attribute 'show'",
     "output_type": "error",
     "traceback": [
      "\u001b[0;31m---------------------------------------------------------------------------\u001b[0m",
      "\u001b[0;31mAttributeError\u001b[0m                            Traceback (most recent call last)",
      "\u001b[0;32m<ipython-input-16-ece30bd5e827>\u001b[0m in \u001b[0;36m<module>\u001b[0;34m\u001b[0m\n\u001b[0;32m----> 1\u001b[0;31m \u001b[0max\u001b[0m\u001b[0;34m.\u001b[0m\u001b[0mshow\u001b[0m\u001b[0;34m(\u001b[0m\u001b[0;34m)\u001b[0m\u001b[0;34m\u001b[0m\u001b[0;34m\u001b[0m\u001b[0m\n\u001b[0m",
      "\u001b[0;31mAttributeError\u001b[0m: 'AxesSubplot' object has no attribute 'show'"
     ]
    }
   ],
   "source": []
  },
  {
   "cell_type": "code",
   "execution_count": 23,
   "id": "df09fc61",
   "metadata": {},
   "outputs": [],
   "source": [
    "df = pd.DataFrame()"
   ]
  },
  {
   "cell_type": "code",
   "execution_count": 25,
   "id": "8c033d02",
   "metadata": {},
   "outputs": [
    {
     "data": {
      "text/plain": [
       "158"
      ]
     },
     "execution_count": 25,
     "metadata": {},
     "output_type": "execute_result"
    }
   ],
   "source": [
    "report.shape[0]"
   ]
  },
  {
   "cell_type": "code",
   "execution_count": 27,
   "id": "c9d6b05d",
   "metadata": {},
   "outputs": [
    {
     "data": {
      "text/html": [
       "<div>\n",
       "<style scoped>\n",
       "    .dataframe tbody tr th:only-of-type {\n",
       "        vertical-align: middle;\n",
       "    }\n",
       "\n",
       "    .dataframe tbody tr th {\n",
       "        vertical-align: top;\n",
       "    }\n",
       "\n",
       "    .dataframe thead th {\n",
       "        text-align: right;\n",
       "    }\n",
       "</style>\n",
       "<table border=\"1\" class=\"dataframe\">\n",
       "  <thead>\n",
       "    <tr style=\"text-align: right;\">\n",
       "      <th></th>\n",
       "      <th>word</th>\n",
       "      <th>length</th>\n",
       "      <th>velocity_x</th>\n",
       "      <th>velocity_y</th>\n",
       "      <th>author</th>\n",
       "      <th>velocity</th>\n",
       "    </tr>\n",
       "  </thead>\n",
       "  <tbody>\n",
       "    <tr>\n",
       "      <th>0</th>\n",
       "      <td>привет</td>\n",
       "      <td>0.48</td>\n",
       "      <td>11.875000</td>\n",
       "      <td>20.625000</td>\n",
       "      <td>Блог Насти Каменских</td>\n",
       "      <td>23.799291</td>\n",
       "    </tr>\n",
       "    <tr>\n",
       "      <th>1</th>\n",
       "      <td>спасибо</td>\n",
       "      <td>0.39</td>\n",
       "      <td>16.927083</td>\n",
       "      <td>47.395833</td>\n",
       "      <td>Блог Насти Каменских</td>\n",
       "      <td>50.327837</td>\n",
       "    </tr>\n",
       "    <tr>\n",
       "      <th>2</th>\n",
       "      <td>что</td>\n",
       "      <td>0.15</td>\n",
       "      <td>16.666667</td>\n",
       "      <td>26.041667</td>\n",
       "      <td>Блог Насти Каменских</td>\n",
       "      <td>30.918379</td>\n",
       "    </tr>\n",
       "    <tr>\n",
       "      <th>3</th>\n",
       "      <td>что</td>\n",
       "      <td>0.24</td>\n",
       "      <td>9.375000</td>\n",
       "      <td>44.270833</td>\n",
       "      <td>Блог Насти Каменских</td>\n",
       "      <td>45.252595</td>\n",
       "    </tr>\n",
       "    <tr>\n",
       "      <th>4</th>\n",
       "      <td>что</td>\n",
       "      <td>0.21</td>\n",
       "      <td>27.083333</td>\n",
       "      <td>22.916667</td>\n",
       "      <td>Блог Насти Каменских</td>\n",
       "      <td>35.477888</td>\n",
       "    </tr>\n",
       "    <tr>\n",
       "      <th>...</th>\n",
       "      <td>...</td>\n",
       "      <td>...</td>\n",
       "      <td>...</td>\n",
       "      <td>...</td>\n",
       "      <td>...</td>\n",
       "      <td>...</td>\n",
       "    </tr>\n",
       "    <tr>\n",
       "      <th>153</th>\n",
       "      <td>вот</td>\n",
       "      <td>0.33</td>\n",
       "      <td>14.800000</td>\n",
       "      <td>9.200000</td>\n",
       "      <td>Психолог Вероника Степанова</td>\n",
       "      <td>17.426417</td>\n",
       "    </tr>\n",
       "    <tr>\n",
       "      <th>154</th>\n",
       "      <td>дела</td>\n",
       "      <td>0.54</td>\n",
       "      <td>11.818182</td>\n",
       "      <td>31.272727</td>\n",
       "      <td>Психолог Вероника Степанова</td>\n",
       "      <td>33.431316</td>\n",
       "    </tr>\n",
       "    <tr>\n",
       "      <th>155</th>\n",
       "      <td>сегодня</td>\n",
       "      <td>0.45</td>\n",
       "      <td>13.111111</td>\n",
       "      <td>28.888889</td>\n",
       "      <td>Психолог Вероника Степанова</td>\n",
       "      <td>31.724898</td>\n",
       "    </tr>\n",
       "    <tr>\n",
       "      <th>156</th>\n",
       "      <td>своих</td>\n",
       "      <td>0.24</td>\n",
       "      <td>9.500000</td>\n",
       "      <td>14.000000</td>\n",
       "      <td>Психолог Вероника Степанова</td>\n",
       "      <td>16.918924</td>\n",
       "    </tr>\n",
       "    <tr>\n",
       "      <th>157</th>\n",
       "      <td>консультациях</td>\n",
       "      <td>0.84</td>\n",
       "      <td>39.444444</td>\n",
       "      <td>69.555556</td>\n",
       "      <td>Психолог Вероника Степанова</td>\n",
       "      <td>79.961488</td>\n",
       "    </tr>\n",
       "  </tbody>\n",
       "</table>\n",
       "<p>158 rows × 6 columns</p>\n",
       "</div>"
      ],
      "text/plain": [
       "              word  length  velocity_x  velocity_y  \\\n",
       "0           привет    0.48   11.875000   20.625000   \n",
       "1          спасибо    0.39   16.927083   47.395833   \n",
       "2              что    0.15   16.666667   26.041667   \n",
       "3              что    0.24    9.375000   44.270833   \n",
       "4              что    0.21   27.083333   22.916667   \n",
       "..             ...     ...         ...         ...   \n",
       "153            вот    0.33   14.800000    9.200000   \n",
       "154           дела    0.54   11.818182   31.272727   \n",
       "155        сегодня    0.45   13.111111   28.888889   \n",
       "156          своих    0.24    9.500000   14.000000   \n",
       "157  консультациях    0.84   39.444444   69.555556   \n",
       "\n",
       "                          author   velocity  \n",
       "0           Блог Насти Каменских  23.799291  \n",
       "1           Блог Насти Каменских  50.327837  \n",
       "2           Блог Насти Каменских  30.918379  \n",
       "3           Блог Насти Каменских  45.252595  \n",
       "4           Блог Насти Каменских  35.477888  \n",
       "..                           ...        ...  \n",
       "153  Психолог Вероника Степанова  17.426417  \n",
       "154  Психолог Вероника Степанова  33.431316  \n",
       "155  Психолог Вероника Степанова  31.724898  \n",
       "156  Психолог Вероника Степанова  16.918924  \n",
       "157  Психолог Вероника Степанова  79.961488  \n",
       "\n",
       "[158 rows x 6 columns]"
      ]
     },
     "execution_count": 27,
     "metadata": {},
     "output_type": "execute_result"
    }
   ],
   "source": [
    "report"
   ]
  },
  {
   "cell_type": "code",
   "execution_count": 28,
   "id": "75822e8c",
   "metadata": {},
   "outputs": [],
   "source": [
    "import seaborn as sns\n",
    "sns.set_style('white')"
   ]
  },
  {
   "cell_type": "code",
   "execution_count": 30,
   "id": "22a2d0fd",
   "metadata": {},
   "outputs": [],
   "source": [
    "x1 = report.loc[report.author == authors[0]]\n",
    "x2 = report.loc[report.author == authors[1]]"
   ]
  },
  {
   "cell_type": "code",
   "execution_count": 38,
   "id": "fe6f1e7d",
   "metadata": {},
   "outputs": [
    {
     "data": {
      "text/plain": [
       "<matplotlib.collections.PathCollection at 0x7f51c898e5e0>"
      ]
     },
     "execution_count": 38,
     "metadata": {},
     "output_type": "execute_result"
    },
    {
     "data": {
      "image/png": "[encoded data removed]",
      "text/plain": [
       "<Figure size 432x288 with 1 Axes>"
      ]
     },
     "metadata": {},
     "output_type": "display_data"
    }
   ],
   "source": [
    "plt.scatter(x1.length.to_numpy(), x1.velocity.to_numpy())"
   ]
  },
  {
   "cell_type": "code",
   "execution_count": 39,
   "id": "b70903b0",
   "metadata": {},
   "outputs": [
    {
     "data": {
      "text/plain": [
       "<matplotlib.collections.PathCollection at 0x7f51c8dffaf0>"
      ]
     },
     "execution_count": 39,
     "metadata": {},
     "output_type": "execute_result"
    },
    {
     "data": {
      "image/png": "[encoded data removed]",
      "text/plain": [
       "<Figure size 432x288 with 1 Axes>"
      ]
     },
     "metadata": {},
     "output_type": "display_data"
    }
   ],
   "source": [
    "plt.scatter(x2.length.to_numpy(), x2.velocity.to_numpy())"
   ]
  },
  {
   "cell_type": "code",
   "execution_count": 40,
   "id": "87b0c6f5",
   "metadata": {},
   "outputs": [
    {
     "data": {
      "text/plain": [
       "<AxesSubplot:ylabel='Frequency'>"
      ]
     },
     "execution_count": 40,
     "metadata": {},
     "output_type": "execute_result"
    },
    {
     "data": {
      "image/png": "[encoded data removed]",
      "text/plain": [
       "<Figure size 432x288 with 1 Axes>"
      ]
     },
     "metadata": {},
     "output_type": "display_data"
    }
   ],
   "source": [
    "report.plot.hist()"
   ]
  },
  {
   "cell_type": "code",
   "execution_count": 42,
   "id": "4302b603",
   "metadata": {},
   "outputs": [
    {
     "data": {
      "text/plain": [
       "(array([16., 43., 47., 27., 15.,  7.,  1.,  0.,  1.,  1.]),\n",
       " array([0.03, 0.18, 0.33, 0.48, 0.63, 0.78, 0.93, 1.08, 1.23, 1.38, 1.53]),\n",
       " <BarContainer object of 10 artists>)"
      ]
     },
     "execution_count": 42,
     "metadata": {},
     "output_type": "execute_result"
    },
    {
     "data": {
      "image/png": "[encoded data removed]",
      "text/plain": [
       "<Figure size 432x288 with 1 Axes>"
      ]
     },
     "metadata": {},
     "output_type": "display_data"
    }
   ],
   "source": [
    "plt.hist(report.length)"
   ]
  },
  {
   "cell_type": "code",
   "execution_count": 43,
   "id": "28517d05",
   "metadata": {},
   "outputs": [
    {
     "data": {
      "text/plain": [
       "(array([ 2., 10., 15., 16., 15., 10.,  3.,  5.,  2.,  2.]),\n",
       " array([0.03     , 0.1105166, 0.1910332, 0.2715498, 0.3520664, 0.432583 ,\n",
       "        0.5130996, 0.5936162, 0.6741328, 0.7546494, 0.835166 ]),\n",
       " <BarContainer object of 10 artists>)"
      ]
     },
     "execution_count": 43,
     "metadata": {},
     "output_type": "execute_result"
    },
    {
     "data": {
      "image/png": "[encoded data removed]",
      "text/plain": [
       "<Figure size 432x288 with 1 Axes>"
      ]
     },
     "metadata": {},
     "output_type": "display_data"
    }
   ],
   "source": [
    "n, beans, patches = plt.hist(x1.length)\n"
   ]
  },
  {
   "cell_type": "code",
   "execution_count": 44,
   "id": "d37f95d9",
   "metadata": {},
   "outputs": [
    {
     "data": {
      "text/plain": [
       "(array([ 8., 20., 18., 17.,  9.,  3.,  1.,  0.,  1.,  1.]),\n",
       " array([0.09 , 0.234, 0.378, 0.522, 0.666, 0.81 , 0.954, 1.098, 1.242,\n",
       "        1.386, 1.53 ]),\n",
       " <BarContainer object of 10 artists>)"
      ]
     },
     "execution_count": 44,
     "metadata": {},
     "output_type": "execute_result"
    },
    {
     "data": {
      "image/png": "[encoded data removed]",
      "text/plain": [
       "<Figure size 432x288 with 1 Axes>"
      ]
     },
     "metadata": {},
     "output_type": "display_data"
    }
   ],
   "source": [
    "plt.hist(x2.length)"
   ]
  },
  {
   "cell_type": "code",
   "execution_count": 46,
   "id": "5dcded06",
   "metadata": {},
   "outputs": [
    {
     "data": {
      "text/plain": [
       "<AxesSubplot:xlabel='length', ylabel='Count'>"
      ]
     },
     "execution_count": 46,
     "metadata": {},
     "output_type": "execute_result"
    },
    {
     "data": {
      "image/png": "[encoded data removed]",
      "text/plain": [
       "<Figure size 432x288 with 1 Axes>"
      ]
     },
     "metadata": {},
     "output_type": "display_data"
    }
   ],
   "source": [
    "sns.histplot(x1.length, kde=True)"
   ]
  },
  {
   "cell_type": "code",
   "execution_count": 49,
   "id": "37d5f045",
   "metadata": {},
   "outputs": [],
   "source": [
    "x1_length_np = x1.length.to_numpy()\n",
    "mean = np.mean(x1_length_np)\n",
    "std = np.std(x1_length_np)"
   ]
  },
  {
   "cell_type": "code",
   "execution_count": 62,
   "id": "9f056214",
   "metadata": {},
   "outputs": [
    {
     "data": {
      "text/plain": [
       "[<matplotlib.lines.Line2D at 0x7f51c5ccbf70>]"
      ]
     },
     "execution_count": 62,
     "metadata": {},
     "output_type": "execute_result"
    },
    {
     "data": {
      "image/png": "[encoded data removed]",
      "text/plain": [
       "<Figure size 432x288 with 1 Axes>"
      ]
     },
     "metadata": {},
     "output_type": "display_data"
    }
   ],
   "source": [
    "_, bins, _ = plt.hist(x1_length_np, density=1, alpha=0.7)\n",
    "y = ((1 / (np.sqrt(2 * np.pi) * std)) * \n",
    "     np.exp(-0.5 * (1 / std * (bins - mean)) ** 2))\n",
    "\n",
    "plt.plot(bins, y, '--', color='black')"
   ]
  },
  {
   "cell_type": "code",
   "execution_count": 153,
   "id": "92de2d12",
   "metadata": {},
   "outputs": [],
   "source": [
    "import seaborn as sns"
   ]
  },
  {
   "cell_type": "code",
   "execution_count": 178,
   "id": "32b43f0c",
   "metadata": {},
   "outputs": [],
   "source": [
    "class Analyzer:\n",
    "    def __init__(self, csv_path, props):\n",
    "        self.report = pd.read_csv(csv_path)\n",
    "        self.props = props\n",
    "        self._prepare()\n",
    "        \n",
    "    def _prepare(self):\n",
    "        data = np.zeros((self.report.shape[0]))\n",
    "        for i, row in self.report.iterrows():\n",
    "            data[i] = np.sqrt(row['velocity_x'] ** 2 + row['velocity_y'] ** 2)\n",
    "            velocity_df = pd.DataFrame(columns=['velocity'], data=data)\n",
    "\n",
    "        self.report = pd.concat([self.report, velocity_df], axis=1)\n",
    "        \n",
    "        self.authors = self.report['author'].unique()\n",
    "        length = self.authors.shape[0]\n",
    "        self.views = np.zeros((length), dtype=object)\n",
    "\n",
    "        props = self.props\n",
    "        self.means, self.stds = {}, {}\n",
    "        for prop in props:\n",
    "            self.means[prop] = np.zeros((length))\n",
    "            self.stds[prop] = np.zeros((length))\n",
    "        \n",
    "        for prop in props:\n",
    "            for i, author in enumerate(self.authors):\n",
    "                self.views[i] = self.report.loc[self.report.author == author]\n",
    "                self.means[prop][i] = np.mean(self.views[i][prop])\n",
    "                self.stds[prop][i] = np.std(self.views[i][prop])             \n",
    "        \n",
    "    def _get_view(self, view_num):\n",
    "        if type(view_num) is list:\n",
    "            view = self.views[view_num[0]]\n",
    "            for _, v_num in enumerate(view_num, start=1):\n",
    "                view = pd.concat([view, self.views[v_num]])\n",
    "        else:\n",
    "            view = self.views[view_num]\n",
    "            \n",
    "        return view\n",
    "    \n",
    "    def get_props(self, view_num, prop):\n",
    "        mean, std = 0, 0\n",
    "        if type(view_num) is list:\n",
    "            mean = np.mean([self.means[prop][v_n] for v_n in view_num])\n",
    "            std = np.std([self.stds[prop][v_n] for v_n in view_num])\n",
    "        else:\n",
    "            mean = self.means[prop][view_num]\n",
    "            std = self.stds[prop][view_num]\n",
    "            \n",
    "        return mean, std\n",
    "    \n",
    "    def plot_scatter(self, view_num):\n",
    "        view = self._get_view(view_num)\n",
    "        plt.scatter(view.length, view.velocity)\n",
    "        \n",
    "        plt.xlabel('length')\n",
    "        plt.ylabel('velocity')\n",
    "        plt.show()\n",
    "    \n",
    "    def plot_hist(self, view_num, prop, num_bins=10):\n",
    "        view = self._get_view(view_num) \n",
    "        plt.hist(view[prop], num_bins, density=1, alpha=0.7)\n",
    "        plt.xlabel(prop)\n",
    "        plt.show()\n",
    "    \n",
    "    def compare_to_normal(self, view_num, prop, num_bins=10):\n",
    "        view = self._get_view(view_num)\n",
    "        _, bins, _ = plt.hist(view[prop], num_bins, density=True, \n",
    "                              alpha=0.7)\n",
    "        \n",
    "        mean, std = self.get_props(view_num, prop)\n",
    "        print(mean, std)\n",
    "        y = ((1 / (np.sqrt(2 * np.pi) * std)) * np.exp(-0.5 * ((bins - mean) / std  ) ** 2))\n",
    "\n",
    "        plt.plot(bins, y, '--', color='black')\n",
    "        plt.xlabel(prop)\n",
    "        plt.show()\n",
    "        \n",
    "    def dist_plot(self, view_num, prop, num_bins=10):\n",
    "        view = self._get_view(view_num)\n",
    "        sns.displot(view[prop], kde=True, bins=num_bins)\n",
    "        plt.xlabel(prop)\n",
    "        plt.show()\n"
   ]
  },
  {
   "cell_type": "code",
   "execution_count": 179,
   "id": "3a08c364",
   "metadata": {},
   "outputs": [],
   "source": [
    "a = Analyzer('report2.csv', ['velocity', 'length'])"
   ]
  },
  {
   "cell_type": "code",
   "execution_count": 188,
   "id": "e3fdcd18",
   "metadata": {},
   "outputs": [
    {
     "data": {
      "image/png": "[encoded data removed]",
      "text/plain": [
       "<Figure size 360x360 with 1 Axes>"
      ]
     },
     "metadata": {
      "needs_background": "light"
     },
     "output_type": "display_data"
    }
   ],
   "source": [
    "a.dist_plot(1, 'velocity', 30)"
   ]
  },
  {
   "cell_type": "code",
   "execution_count": 187,
   "id": "82c58449",
   "metadata": {},
   "outputs": [
    {
     "data": {
      "image/png": "[encoded data removed]",
      "text/plain": [
       "<Figure size 360x360 with 1 Axes>"
      ]
     },
     "metadata": {
      "needs_background": "light"
     },
     "output_type": "display_data"
    }
   ],
   "source": [
    "a.dist_plot(0, 'velocity', 30)"
   ]
  },
  {
   "cell_type": "code",
   "execution_count": 186,
   "id": "fb7d9ea8",
   "metadata": {},
   "outputs": [
    {
     "data": {
      "image/png": "[encoded data removed]",
      "text/plain": [
       "<Figure size 360x360 with 1 Axes>"
      ]
     },
     "metadata": {
      "needs_background": "light"
     },
     "output_type": "display_data"
    }
   ],
   "source": [
    "a.dist_plot([0, 1], 'velocity', 30)"
   ]
  },
  {
   "cell_type": "code",
   "execution_count": 148,
   "id": "5a2e56de",
   "metadata": {},
   "outputs": [
    {
     "name": "stdout",
     "output_type": "stream",
     "text": [
      "0.48881439743589755 0.25192222017353416\n"
     ]
    },
    {
     "data": {
      "image/png": "[encoded data removed]",
      "text/plain": [
       "<Figure size 432x288 with 1 Axes>"
      ]
     },
     "metadata": {
      "needs_background": "light"
     },
     "output_type": "display_data"
    }
   ],
   "source": [
    "a.compare_to_normal(1, 'length', 30)"
   ]
  },
  {
   "cell_type": "code",
   "execution_count": 149,
   "id": "94403691",
   "metadata": {},
   "outputs": [
    {
     "name": "stdout",
     "output_type": "stream",
     "text": [
      "0.4204872987179485 0.04269473178914614\n"
     ]
    },
    {
     "data": {
      "image/png": "[encoded data removed]",
      "text/plain": [
       "<Figure size 432x288 with 1 Axes>"
      ]
     },
     "metadata": {
      "needs_background": "light"
     },
     "output_type": "display_data"
    }
   ],
   "source": [
    "a.compare_to_normal([0, 1], 'length', 30)"
   ]
  },
  {
   "cell_type": "code",
   "execution_count": 139,
   "id": "31455f12",
   "metadata": {},
   "outputs": [
    {
     "data": {
      "image/png": "[encoded data removed]",
      "text/plain": [
       "<Figure size 432x288 with 1 Axes>"
      ]
     },
     "metadata": {
      "needs_background": "light"
     },
     "output_type": "display_data"
    }
   ],
   "source": [
    "a.plot_hist([0, 1], 'length', 100)"
   ]
  },
  {
   "cell_type": "code",
   "execution_count": 116,
   "id": "04370ff5",
   "metadata": {},
   "outputs": [
    {
     "name": "stdout",
     "output_type": "stream",
     "text": [
      "(0.3521601999999994, 0.1665327565952419)\n",
      "(0.48881439743589755, 0.25192222017353416)\n",
      "(0.4204872987179485, 0.04269473178914614)\n"
     ]
    }
   ],
   "source": [
    "print(a.get_props(0, 'length'))\n",
    "print(a.get_props(1, 'length'))\n",
    "print(a.get_props([0, 1], 'length'))"
   ]
  },
  {
   "cell_type": "code",
   "execution_count": 101,
   "id": "0fe4bdb8",
   "metadata": {},
   "outputs": [
    {
     "data": {
      "text/plain": [
       "'length'"
      ]
     },
     "execution_count": 101,
     "metadata": {},
     "output_type": "execute_result"
    }
   ],
   "source": [
    "plt.xlabel"
   ]
  },
  {
   "cell_type": "code",
   "execution_count": 12,
   "id": "20f3f61e",
   "metadata": {},
   "outputs": [
    {
     "name": "stdout",
     "output_type": "stream",
     "text": [
      "UE\n"
     ]
    }
   ],
   "source": [
    "d = [1, 2 ,3]\n",
    "if type(d) is list:\n",
    "    print(\"UE\")"
   ]
  },
  {
   "cell_type": "code",
   "execution_count": 77,
   "id": "8a7bc05c",
   "metadata": {},
   "outputs": [
    {
     "data": {
      "text/plain": [
       "43.261279327065935"
      ]
     },
     "execution_count": 77,
     "metadata": {},
     "output_type": "execute_result"
    }
   ],
   "source": [
    "a.means['velocity'][0]"
   ]
  },
  {
   "cell_type": "code",
   "execution_count": 98,
   "id": "b49aee32",
   "metadata": {},
   "outputs": [
    {
     "data": {
      "text/plain": [
       "{'velocity': array([43.26127933, 43.26127933]),\n",
       " 'length': array([0.4196224, 0.4196224])}"
      ]
     },
     "execution_count": 98,
     "metadata": {},
     "output_type": "execute_result"
    }
   ],
   "source": [
    "a.means"
   ]
  },
  {
   "cell_type": "code",
   "execution_count": null,
   "id": "2dcf835b",
   "metadata": {},
   "outputs": [],
   "source": []
  }
 ],
 "metadata": {
  "kernelspec": {
   "display_name": "Python 3",
   "language": "python",
   "name": "python3"
  },
  "language_info": {
   "codemirror_mode": {
    "name": "ipython",
    "version": 3
   },
   "file_extension": ".py",
   "mimetype": "text/x-python",
   "name": "python",
   "nbconvert_exporter": "python",
   "pygments_lexer": "ipython3",
   "version": "3.8.5"
  }
 },
 "nbformat": 4,
 "nbformat_minor": 5
}
