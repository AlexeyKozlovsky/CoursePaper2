{
 "cells": [
  {
   "cell_type": "code",
   "execution_count": 2,
   "id": "86c5f5f2",
   "metadata": {},
   "outputs": [],
   "source": [
    "import sys\n",
    "import matplotlib.pyplot as plt\n",
    "import numpy as np\n",
    "import pandas as pd"
   ]
  },
  {
   "cell_type": "code",
   "execution_count": 11,
   "id": "ac5c1aff",
   "metadata": {},
   "outputs": [],
   "source": [
    "report = pd.read_csv('report2.csv')\n",
    "authors = report['author'].unique()"
   ]
  },
  {
   "cell_type": "code",
   "execution_count": 26,
   "id": "e98673b6",
   "metadata": {},
   "outputs": [],
   "source": [
    "data = np.zeros((report.shape[0]))\n",
    "for i, row in report.iterrows():\n",
    "    data[i] = np.sqrt(row['velocity_x'] ** 2 + row['velocity_y'] ** 2)\n",
    "velocity_df = pd.DataFrame(columns=['velocity'], data=data)\n",
    "\n",
    "report = pd.concat([report, velocity_df], axis=1)"
   ]
  },
  {
   "cell_type": "code",
   "execution_count": 10,
   "id": "a180d9ca",
   "metadata": {},
   "outputs": [
    {
     "data": {
      "text/plain": [
       "array(['Блог Насти Каменских', 'Психолог Вероника Степанова'],\n",
       "      dtype=object)"
      ]
     },
     "execution_count": 10,
     "metadata": {},
     "output_type": "execute_result"
    }
   ],
   "source": [
    "report['author'].unique()"
   ]
  },
  {
   "cell_type": "code",
   "execution_count": 17,
   "id": "7b928557",
   "metadata": {},
   "outputs": [
    {
     "data": {
      "text/plain": [
       "[<matplotlib.lines.Line2D at 0x7f51e0bb0ee0>]"
      ]
     },
     "execution_count": 17,
     "metadata": {},
     "output_type": "execute_result"
    },
    {
     "data": {
      "image/png": "[encoded data removed]",
      "text/plain": [
       "<Figure size 432x288 with 1 Axes>"
      ]
     },
     "metadata": {
      "needs_background": "light"
     },
     "output_type": "display_data"
    }
   ],
   "source": [
    "fig, ax = plt.subplots()\n",
    "ax.semilogy(2, 3)"
   ]
  },
  {
   "cell_type": "code",
   "execution_count": 21,
   "id": "4693d7b4",
   "metadata": {},
   "outputs": [
    {
     "name": "stdout",
     "output_type": "stream",
     "text": [
      "привет\n",
      "спасибо\n",
      "что\n",
      "что\n",
      "что\n",
      "смотрите\n",
      "видеоблог\n",
      "неожиданным\n",
      "образом\n",
      "хочу\n",
      "себя\n",
      "в\n",
      "в\n",
      "хорошей\n",
      "форме\n",
      "я\n",
      "я\n",
      "я\n",
      "я\n",
      "я\n",
      "за\n",
      "за\n",
      "два\n",
      "два\n",
      "два\n",
      "месяца\n",
      "месяца\n",
      "похудеть\n",
      "специалистов\n",
      "этого\n",
      "этого\n",
      "процесса\n",
      "вы\n",
      "вы\n",
      "сможете\n",
      "увидеть\n",
      "чтобы\n",
      "чтобы\n",
      "чтобы\n",
      "сбросить\n",
      "лишний\n",
      "вес\n",
      "буду\n",
      "ходить\n",
      "ходить\n",
      "спортзал\n",
      "режима\n",
      "питания\n",
      "бассейн\n",
      "массаж\n",
      "будете\n",
      "видеть\n",
      "как\n",
      "и\n",
      "тем\n",
      "года\n",
      "года\n",
      "три\n",
      "назад\n",
      "на\n",
      "на\n",
      "четыре\n",
      "их\n",
      "эти\n",
      "джинсы\n",
      "доказать\n",
      "это\n",
      "моим\n",
      "блогом\n",
      "полная\n",
      "версия\n",
      "можете\n",
      "посмотреть\n",
      "мои\n",
      "страничке\n",
      "фейсбуке\n",
      "а\n",
      "также\n",
      "новости\n",
      "свежими\n",
      "меня\n",
      "зовут\n",
      "вероника\n",
      "степанова\n",
      "золотой\n",
      "дождь\n",
      "начнём\n",
      "с\n",
      "самого\n",
      "самого\n",
      "так\n",
      "снежок\n",
      "передают\n",
      "сперму\n",
      "изо\n",
      "рта\n",
      "в\n",
      "рот\n",
      "дальше\n",
      "дальше\n",
      "милан\n",
      "кап\n",
      "две\n",
      "девочки\n",
      "и\n",
      "одна\n",
      "чашечка\n",
      "моё\n",
      "влагалище\n",
      "слишком\n",
      "щит\n",
      "щит\n",
      "ну\n",
      "что\n",
      "что\n",
      "такого\n",
      "такого\n",
      "страшного\n",
      "этом\n",
      "анусе\n",
      "может\n",
      "происходить\n",
      "ужасного\n",
      "если\n",
      "я\n",
      "буду\n",
      "засовывать\n",
      "туда\n",
      "пальчик\n",
      "пальчик\n",
      "кал\n",
      "менструальные\n",
      "выделения\n",
      "слюна\n",
      "рвота\n",
      "боюсь\n",
      "полизать\n",
      "своей\n",
      "своей\n",
      "страх\n",
      "ведь\n",
      "это\n",
      "такая\n",
      "малость\n",
      "всего\n",
      "лишь\n",
      "оставить\n",
      "скушать\n",
      "или\n",
      "целовать\n",
      "пищу\n",
      "собаки\n",
      "такие\n",
      "вот\n",
      "дела\n",
      "сегодня\n",
      "своих\n",
      "консультациях\n"
     ]
    }
   ],
   "source": [
    "for i, row in report.iterrows():\n",
    "    print(row['word'])"
   ]
  },
  {
   "cell_type": "code",
   "execution_count": 16,
   "id": "5d135346",
   "metadata": {},
   "outputs": [
    {
     "ename": "AttributeError",
     "evalue": "'AxesSubplot' object has no attribute 'show'",
     "output_type": "error",
     "traceback": [
      "\u001b[0;31m---------------------------------------------------------------------------\u001b[0m",
      "\u001b[0;31mAttributeError\u001b[0m                            Traceback (most recent call last)",
      "\u001b[0;32m<ipython-input-16-ece30bd5e827>\u001b[0m in \u001b[0;36m<module>\u001b[0;34m\u001b[0m\n\u001b[0;32m----> 1\u001b[0;31m \u001b[0max\u001b[0m\u001b[0;34m.\u001b[0m\u001b[0mshow\u001b[0m\u001b[0;34m(\u001b[0m\u001b[0;34m)\u001b[0m\u001b[0;34m\u001b[0m\u001b[0;34m\u001b[0m\u001b[0m\n\u001b[0m",
      "\u001b[0;31mAttributeError\u001b[0m: 'AxesSubplot' object has no attribute 'show'"
     ]
    }
   ],
   "source": []
  },
  {
   "cell_type": "code",
   "execution_count": 23,
   "id": "47586aa7",
   "metadata": {},
   "outputs": [],
   "source": [
    "df = pd.DataFrame()"
   ]
  },
  {
   "cell_type": "code",
   "execution_count": 25,
   "id": "0119593e",
   "metadata": {},
   "outputs": [
    {
     "data": {
      "text/plain": [
       "158"
      ]
     },
     "execution_count": 25,
     "metadata": {},
     "output_type": "execute_result"
    }
   ],
   "source": [
    "report.shape[0]"
   ]
  },
  {
   "cell_type": "code",
   "execution_count": 27,
   "id": "09e32a71",
   "metadata": {},
   "outputs": [
    {
     "data": {
      "text/html": [
       "<div>\n",
       "<style scoped>\n",
       "    .dataframe tbody tr th:only-of-type {\n",
       "        vertical-align: middle;\n",
       "    }\n",
       "\n",
       "    .dataframe tbody tr th {\n",
       "        vertical-align: top;\n",
       "    }\n",
       "\n",
       "    .dataframe thead th {\n",
       "        text-align: right;\n",
       "    }\n",
       "</style>\n",
       "<table border=\"1\" class=\"dataframe\">\n",
       "  <thead>\n",
       "    <tr style=\"text-align: right;\">\n",
       "      <th></th>\n",
       "      <th>word</th>\n",
       "      <th>length</th>\n",
       "      <th>velocity_x</th>\n",
       "      <th>velocity_y</th>\n",
       "      <th>author</th>\n",
       "      <th>velocity</th>\n",
       "    </tr>\n",
       "  </thead>\n",
       "  <tbody>\n",
       "    <tr>\n",
       "      <th>0</th>\n",
       "      <td>привет</td>\n",
       "      <td>0.48</td>\n",
       "      <td>11.875000</td>\n",
       "      <td>20.625000</td>\n",
       "      <td>Блог Насти Каменских</td>\n",
       "      <td>23.799291</td>\n",
       "    </tr>\n",
       "    <tr>\n",
       "      <th>1</th>\n",
       "      <td>спасибо</td>\n",
       "      <td>0.39</td>\n",
       "      <td>16.927083</td>\n",
       "      <td>47.395833</td>\n",
       "      <td>Блог Насти Каменских</td>\n",
       "      <td>50.327837</td>\n",
       "    </tr>\n",
       "    <tr>\n",
       "      <th>2</th>\n",
       "      <td>что</td>\n",
       "      <td>0.15</td>\n",
       "      <td>16.666667</td>\n",
       "      <td>26.041667</td>\n",
       "      <td>Блог Насти Каменских</td>\n",
       "      <td>30.918379</td>\n",
       "    </tr>\n",
       "    <tr>\n",
       "      <th>3</th>\n",
       "      <td>что</td>\n",
       "      <td>0.24</td>\n",
       "      <td>9.375000</td>\n",
       "      <td>44.270833</td>\n",
       "      <td>Блог Насти Каменских</td>\n",
       "      <td>45.252595</td>\n",
       "    </tr>\n",
       "    <tr>\n",
       "      <th>4</th>\n",
       "      <td>что</td>\n",
       "      <td>0.21</td>\n",
       "      <td>27.083333</td>\n",
       "      <td>22.916667</td>\n",
       "      <td>Блог Насти Каменских</td>\n",
       "      <td>35.477888</td>\n",
       "    </tr>\n",
       "    <tr>\n",
       "      <th>...</th>\n",
       "      <td>...</td>\n",
       "      <td>...</td>\n",
       "      <td>...</td>\n",
       "      <td>...</td>\n",
       "      <td>...</td>\n",
       "      <td>...</td>\n",
       "    </tr>\n",
       "    <tr>\n",
       "      <th>153</th>\n",
       "      <td>вот</td>\n",
       "      <td>0.33</td>\n",
       "      <td>14.800000</td>\n",
       "      <td>9.200000</td>\n",
       "      <td>Психолог Вероника Степанова</td>\n",
       "      <td>17.426417</td>\n",
       "    </tr>\n",
       "    <tr>\n",
       "      <th>154</th>\n",
       "      <td>дела</td>\n",
       "      <td>0.54</td>\n",
       "      <td>11.818182</td>\n",
       "      <td>31.272727</td>\n",
       "      <td>Психолог Вероника Степанова</td>\n",
       "      <td>33.431316</td>\n",
       "    </tr>\n",
       "    <tr>\n",
       "      <th>155</th>\n",
       "      <td>сегодня</td>\n",
       "      <td>0.45</td>\n",
       "      <td>13.111111</td>\n",
       "      <td>28.888889</td>\n",
       "      <td>Психолог Вероника Степанова</td>\n",
       "      <td>31.724898</td>\n",
       "    </tr>\n",
       "    <tr>\n",
       "      <th>156</th>\n",
       "      <td>своих</td>\n",
       "      <td>0.24</td>\n",
       "      <td>9.500000</td>\n",
       "      <td>14.000000</td>\n",
       "      <td>Психолог Вероника Степанова</td>\n",
       "      <td>16.918924</td>\n",
       "    </tr>\n",
       "    <tr>\n",
       "      <th>157</th>\n",
       "      <td>консультациях</td>\n",
       "      <td>0.84</td>\n",
       "      <td>39.444444</td>\n",
       "      <td>69.555556</td>\n",
       "      <td>Психолог Вероника Степанова</td>\n",
       "      <td>79.961488</td>\n",
       "    </tr>\n",
       "  </tbody>\n",
       "</table>\n",
       "<p>158 rows × 6 columns</p>\n",
       "</div>"
      ],
      "text/plain": [
       "              word  length  velocity_x  velocity_y  \\\n",
       "0           привет    0.48   11.875000   20.625000   \n",
       "1          спасибо    0.39   16.927083   47.395833   \n",
       "2              что    0.15   16.666667   26.041667   \n",
       "3              что    0.24    9.375000   44.270833   \n",
       "4              что    0.21   27.083333   22.916667   \n",
       "..             ...     ...         ...         ...   \n",
       "153            вот    0.33   14.800000    9.200000   \n",
       "154           дела    0.54   11.818182   31.272727   \n",
       "155        сегодня    0.45   13.111111   28.888889   \n",
       "156          своих    0.24    9.500000   14.000000   \n",
       "157  консультациях    0.84   39.444444   69.555556   \n",
       "\n",
       "                          author   velocity  \n",
       "0           Блог Насти Каменских  23.799291  \n",
       "1           Блог Насти Каменских  50.327837  \n",
       "2           Блог Насти Каменских  30.918379  \n",
       "3           Блог Насти Каменских  45.252595  \n",
       "4           Блог Насти Каменских  35.477888  \n",
       "..                           ...        ...  \n",
       "153  Психолог Вероника Степанова  17.426417  \n",
       "154  Психолог Вероника Степанова  33.431316  \n",
       "155  Психолог Вероника Степанова  31.724898  \n",
       "156  Психолог Вероника Степанова  16.918924  \n",
       "157  Психолог Вероника Степанова  79.961488  \n",
       "\n",
       "[158 rows x 6 columns]"
      ]
     },
     "execution_count": 27,
     "metadata": {},
     "output_type": "execute_result"
    }
   ],
   "source": [
    "report"
   ]
  },
  {
   "cell_type": "code",
   "execution_count": 28,
   "id": "b0d503f6",
   "metadata": {},
   "outputs": [],
   "source": [
    "import seaborn as sns\n",
    "sns.set_style('white')"
   ]
  },
  {
   "cell_type": "code",
   "execution_count": 30,
   "id": "8c2fea48",
   "metadata": {},
   "outputs": [],
   "source": [
    "x1 = report.loc[report.author == authors[0]]\n",
    "x2 = report.loc[report.author == authors[1]]"
   ]
  },
  {
   "cell_type": "code",
   "execution_count": 38,
   "id": "8ed9e23e",
   "metadata": {},
   "outputs": [
    {
     "data": {
      "text/plain": [
       "<matplotlib.collections.PathCollection at 0x7f51c898e5e0>"
      ]
     },
     "execution_count": 38,
     "metadata": {},
     "output_type": "execute_result"
    },
    {
     "data": {
      "image/png": "[encoded data removed]",
      "text/plain": [
       "<Figure size 432x288 with 1 Axes>"
      ]
     },
     "metadata": {},
     "output_type": "display_data"
    }
   ],
   "source": [
    "plt.scatter(x1.length.to_numpy(), x1.velocity.to_numpy())"
   ]
  },
  {
   "cell_type": "code",
   "execution_count": 39,
   "id": "90a02f57",
   "metadata": {},
   "outputs": [
    {
     "data": {
      "text/plain": [
       "<matplotlib.collections.PathCollection at 0x7f51c8dffaf0>"
      ]
     },
     "execution_count": 39,
     "metadata": {},
     "output_type": "execute_result"
    },
    {
     "data": {
      "image/png": "[encoded data removed]",
      "text/plain": [
       "<Figure size 432x288 with 1 Axes>"
      ]
     },
     "metadata": {},
     "output_type": "display_data"
    }
   ],
   "source": [
    "plt.scatter(x2.length.to_numpy(), x2.velocity.to_numpy())"
   ]
  },
  {
   "cell_type": "code",
   "execution_count": 40,
   "id": "2f2e8f0d",
   "metadata": {},
   "outputs": [
    {
     "data": {
      "text/plain": [
       "<AxesSubplot:ylabel='Frequency'>"
      ]
     },
     "execution_count": 40,
     "metadata": {},
     "output_type": "execute_result"
    },
    {
     "data": {
      "image/png": "[encoded data removed]",
      "text/plain": [
       "<Figure size 432x288 with 1 Axes>"
      ]
     },
     "metadata": {},
     "output_type": "display_data"
    }
   ],
   "source": [
    "report.plot.hist()"
   ]
  },
  {
   "cell_type": "code",
   "execution_count": 42,
   "id": "0a357812",
   "metadata": {},
   "outputs": [
    {
     "data": {
      "text/plain": [
       "(array([16., 43., 47., 27., 15.,  7.,  1.,  0.,  1.,  1.]),\n",
       " array([0.03, 0.18, 0.33, 0.48, 0.63, 0.78, 0.93, 1.08, 1.23, 1.38, 1.53]),\n",
       " <BarContainer object of 10 artists>)"
      ]
     },
     "execution_count": 42,
     "metadata": {},
     "output_type": "execute_result"
    },
    {
     "data": {
      "image/png": "[encoded data removed]",
      "text/plain": [
       "<Figure size 432x288 with 1 Axes>"
      ]
     },
     "metadata": {},
     "output_type": "display_data"
    }
   ],
   "source": [
    "plt.hist(report.length)"
   ]
  },
  {
   "cell_type": "code",
   "execution_count": 43,
   "id": "1b532ad6",
   "metadata": {},
   "outputs": [
    {
     "data": {
      "text/plain": [
       "(array([ 2., 10., 15., 16., 15., 10.,  3.,  5.,  2.,  2.]),\n",
       " array([0.03     , 0.1105166, 0.1910332, 0.2715498, 0.3520664, 0.432583 ,\n",
       "        0.5130996, 0.5936162, 0.6741328, 0.7546494, 0.835166 ]),\n",
       " <BarContainer object of 10 artists>)"
      ]
     },
     "execution_count": 43,
     "metadata": {},
     "output_type": "execute_result"
    },
    {
     "data": {
      "image/png": "[encoded data removed]",
      "text/plain": [
       "<Figure size 432x288 with 1 Axes>"
      ]
     },
     "metadata": {},
     "output_type": "display_data"
    }
   ],
   "source": [
    "n, beans, patches = plt.hist(x1.length)\n"
   ]
  },
  {
   "cell_type": "code",
   "execution_count": 44,
   "id": "016a9450",
   "metadata": {},
   "outputs": [
    {
     "data": {
      "text/plain": [
       "(array([ 8., 20., 18., 17.,  9.,  3.,  1.,  0.,  1.,  1.]),\n",
       " array([0.09 , 0.234, 0.378, 0.522, 0.666, 0.81 , 0.954, 1.098, 1.242,\n",
       "        1.386, 1.53 ]),\n",
       " <BarContainer object of 10 artists>)"
      ]
     },
     "execution_count": 44,
     "metadata": {},
     "output_type": "execute_result"
    },
    {
     "data": {
      "image/png": "[encoded data removed]",
      "text/plain": [
       "<Figure size 432x288 with 1 Axes>"
      ]
     },
     "metadata": {},
     "output_type": "display_data"
    }
   ],
   "source": [
    "plt.hist(x2.length)"
   ]
  },
  {
   "cell_type": "code",
   "execution_count": 46,
   "id": "d38a0108",
   "metadata": {},
   "outputs": [
    {
     "data": {
      "text/plain": [
       "<AxesSubplot:xlabel='length', ylabel='Count'>"
      ]
     },
     "execution_count": 46,
     "metadata": {},
     "output_type": "execute_result"
    },
    {
     "data": {
      "image/png": "[encoded data removed]",
      "text/plain": [
       "<Figure size 432x288 with 1 Axes>"
      ]
     },
     "metadata": {},
     "output_type": "display_data"
    }
   ],
   "source": [
    "sns.histplot(x1.length, kde=True)"
   ]
  },
  {
   "cell_type": "code",
   "execution_count": 49,
   "id": "4a9db8c0",
   "metadata": {},
   "outputs": [],
   "source": [
    "x1_length_np = x1.length.to_numpy()\n",
    "mean = np.mean(x1_length_np)\n",
    "std = np.std(x1_length_np)"
   ]
  },
  {
   "cell_type": "code",
   "execution_count": 62,
   "id": "4d7956c6",
   "metadata": {},
   "outputs": [
    {
     "data": {
      "text/plain": [
       "[<matplotlib.lines.Line2D at 0x7f51c5ccbf70>]"
      ]
     },
     "execution_count": 62,
     "metadata": {},
     "output_type": "execute_result"
    },
    {
     "data": {
      "image/png": "[encoded data removed]",
      "text/plain": [
       "<Figure size 432x288 with 1 Axes>"
      ]
     },
     "metadata": {},
     "output_type": "display_data"
    }
   ],
   "source": [
    "_, bins, _ = plt.hist(x1_length_np, density=1, alpha=0.7)\n",
    "y = ((1 / (np.sqrt(2 * np.pi) * std)) * \n",
    "     np.exp(-0.5 * (1 / std * (bins - mean)) ** 2))\n",
    "\n",
    "plt.plot(bins, y, '--', color='black')"
   ]
  },
  {
   "cell_type": "code",
   "execution_count": 63,
   "id": "e7adda84",
   "metadata": {},
   "outputs": [
    {
     "data": {
      "text/plain": [
       "<matplotlib.collections.PathCollection at 0x7f51c5b42520>"
      ]
     },
     "execution_count": 63,
     "metadata": {},
     "output_type": "execute_result"
    },
    {
     "data": {
      "image/png": "[encoded data removed]",
      "text/plain": [
       "<Figure size 432x288 with 1 Axes>"
      ]
     },
     "metadata": {},
     "output_type": "display_data"
    }
   ],
   "source": [
    "class Analizer:\n",
    "    def __init__(self, report):\n",
    "        self.report = report\n",
    "        \n",
    "        \n",
    "        \n",
    "    def plot_scatter(self):\n",
    "        pass\n",
    "    \n",
    "    def plot_hist(self):\n",
    "        pass\n",
    "    \n",
    "    def compare_to_normal(self):\n",
    "        pass"
   ]
  },
  {
   "cell_type": "code",
   "execution_count": null,
   "id": "7a9f61d6",
   "metadata": {},
   "outputs": [],
   "source": []
  }
 ],
 "metadata": {
  "kernelspec": {
   "display_name": "Python 3",
   "language": "python",
   "name": "python3"
  },
  "language_info": {
   "codemirror_mode": {
    "name": "ipython",
    "version": 3
   },
   "file_extension": ".py",
   "mimetype": "text/x-python",
   "name": "python",
   "nbconvert_exporter": "python",
   "pygments_lexer": "ipython3",
   "version": "3.8.5"
  }
 },
 "nbformat": 4,
 "nbformat_minor": 5
}
