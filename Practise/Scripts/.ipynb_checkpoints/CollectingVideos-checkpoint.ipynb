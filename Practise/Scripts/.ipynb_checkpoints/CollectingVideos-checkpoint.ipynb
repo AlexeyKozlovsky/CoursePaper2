{
 "cells": [
  {
   "cell_type": "markdown",
   "metadata": {},
   "source": [
    "## Сбор видие с youtube и сегментация"
   ]
  },
  {
   "cell_type": "code",
   "execution_count": 8,
   "metadata": {},
   "outputs": [],
   "source": [
    "import os\n",
    "import subprocess\n",
    "import json\n",
    "\n",
    "\n",
    "import cv2\n",
    "import vosk\n",
    "import librosa\n",
    "import pytube as pt\n",
    "import numpy as np\n",
    "import pandas as pd\n",
    "\n",
    "from moviepy.video.io.ffmpeg_tools import ffmpeg_extract_subclip"
   ]
  },
  {
   "cell_type": "markdown",
   "metadata": {},
   "source": [
    "### Подключение cvs файла с ссылками"
   ]
  },
  {
   "cell_type": "code",
   "execution_count": 17,
   "metadata": {},
   "outputs": [],
   "source": [
    "urls = np.array(pd.read_csv('../Csvs/urls.csv').to_numpy(), dtype=str)[:, 0]"
   ]
  },
  {
   "cell_type": "code",
   "execution_count": 20,
   "metadata": {},
   "outputs": [],
   "source": [
    "def download(url, name):\n",
    "    \"\"\"\n",
    "    Функция для скачивания видео с youtube\n",
    "    \n",
    "    url: ссылка на видео\n",
    "    name: имя выходного файла\n",
    "    \n",
    "    returns: [pytube.video]\n",
    "    \"\"\"\n",
    "    \n",
    "    youtube = pt.YouTube(url)\n",
    "    video = youtube.streams.first().download(filename=name)\n",
    "    \n",
    "    return video"
   ]
  },
  {
   "cell_type": "code",
   "execution_count": 16,
   "metadata": {},
   "outputs": [
    {
     "name": "stdout",
     "output_type": "stream",
     "text": [
      "https://www.youtube.com/watch?v=X8bpe2hmBjQ\n",
      "https://www.youtube.com/watch?v=54rzgeFA0cY\n",
      "https://www.youtube.com/watch?v=1bhvP1CZI5A\n",
      "https://www.youtube.com/watch?v=jfRE0_beZ3s\n",
      "https://www.youtube.com/watch?v=oLZuCGuAnsM\n",
      "https://www.youtube.com/watch?v=3vPNReMUzBE\n",
      "https://www.youtube.com/watch?v=XM-SR1uc3b8\n"
     ]
    }
   ],
   "source": [
    "download"
   ]
  },
  {
   "cell_type": "code",
   "execution_count": 19,
   "metadata": {},
   "outputs": [
    {
     "ename": "SyntaxError",
     "evalue": "invalid syntax (<ipython-input-19-df15fd8cbf52>, line 1)",
     "output_type": "error",
     "traceback": [
      "\u001b[0;36m  File \u001b[0;32m\"<ipython-input-19-df15fd8cbf52>\"\u001b[0;36m, line \u001b[0;32m1\u001b[0m\n\u001b[0;31m    pt.YouTube().streams.first().download()?\u001b[0m\n\u001b[0m                                           ^\u001b[0m\n\u001b[0;31mSyntaxError\u001b[0m\u001b[0;31m:\u001b[0m invalid syntax\n"
     ]
    }
   ],
   "source": []
  },
  {
   "cell_type": "code",
   "execution_count": null,
   "metadata": {},
   "outputs": [],
   "source": [
    "pt.YouTube().streams.first().download"
   ]
  },
  {
   "cell_type": "code",
   "execution_count": null,
   "metadata": {},
   "outputs": [],
   "source": [
    "class Parser:\n",
    "    def __init__(self, url, filename):\n",
    "        self.url = url\n",
    "        self.filename = filename\n",
    "        \n",
    "    def to_file(self):\n",
    "        \"\"\"\n",
    "        Функция для скачивания видео с youtube\n",
    "\n",
    "        url: ссылка на видео\n",
    "        name: имя выходного файла\n",
    "\n",
    "        returns: [pytube.video]\n",
    "        \"\"\"\n",
    "        youtube = pt.YouTube(url)\n",
    "        video = youtube.streams.first()\n",
    "        \n",
    "        return video"
   ]
  }
 ],
 "metadata": {
  "kernelspec": {
   "display_name": "Python 3",
   "language": "python",
   "name": "python3"
  },
  "language_info": {
   "codemirror_mode": {
    "name": "ipython",
    "version": 3
   },
   "file_extension": ".py",
   "mimetype": "text/x-python",
   "name": "python",
   "nbconvert_exporter": "python",
   "pygments_lexer": "ipython3",
   "version": "3.8.5"
  }
 },
 "nbformat": 4,
 "nbformat_minor": 2
}
