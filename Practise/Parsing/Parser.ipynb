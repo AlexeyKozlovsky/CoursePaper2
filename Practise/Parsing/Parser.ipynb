{
 "cells": [
  {
   "cell_type": "code",
   "execution_count": 9,
   "metadata": {},
   "outputs": [],
   "source": [
    "import pytube as pt\n",
    "import moviepy.editor as mp\n",
    "\n",
    "from pydub import AudioSegment\n",
    "from pydub.silence import split_on_silence\n",
    "from bs4 import BeautifulSoup\n",
    "import xml.etree.ElementTree as ET\n",
    "\n",
    "from moviepy.video.io.ffmpeg_tools import ffmpeg_extract_subclip\n",
    "\n",
    "import wave\n",
    "import numpy as np\n",
    "import matplotlib.pyplot as plt"
   ]
  },
  {
   "cell_type": "code",
   "execution_count": 10,
   "metadata": {},
   "outputs": [],
   "source": [
    "url = 'https://www.youtube.com/watch?v=tuG5bzAPBJI'\n",
    "youtube = pt.YouTube(url)\n",
    "video = youtube.streams.first().download()"
   ]
  },
  {
   "cell_type": "code",
   "execution_count": 11,
   "metadata": {},
   "outputs": [],
   "source": [
    "subtitles = youtube.caption_tracks[0].xml_captions"
   ]
  },
  {
   "cell_type": "code",
   "execution_count": 12,
   "metadata": {},
   "outputs": [],
   "source": [
    "t = subtitles.translate?"
   ]
  },
  {
   "cell_type": "code",
   "execution_count": 13,
   "metadata": {},
   "outputs": [],
   "source": [
    "t = subtitles.translate"
   ]
  },
  {
   "cell_type": "code",
   "execution_count": 34,
   "metadata": {},
   "outputs": [],
   "source": [
    "soup = BeautifulSoup(subtitles, 'html.parser')"
   ]
  },
  {
   "cell_type": "code",
   "execution_count": 14,
   "metadata": {},
   "outputs": [],
   "source": [
    "root = ET.fromstring(subtitles)"
   ]
  },
  {
   "cell_type": "code",
   "execution_count": 15,
   "metadata": {},
   "outputs": [
    {
     "name": "stdout",
     "output_type": "stream",
     "text": [
      "text {'start': '0', 'dur': '5.25'} что всем привет ещё раз расскажу пару\n",
      "0 5.25\n",
      "text {'start': '2.639', 'dur': '4.491'} слов о шади обучение началось и две идеи\n",
      "2.639 4.491\n",
      "text {'start': '5.25', 'dur': '5.28'} которые хотели свои с вами поделиться\n",
      "5.25 5.28\n",
      "text {'start': '7.13', 'dur': '5.56'} первое то что с этого года в шади есть\n",
      "7.13 5.56\n",
      "text {'start': '10.53', 'dur': '4.89'} четыре направления соответствии с\n",
      "10.53 4.89\n",
      "text {'start': '12.69', 'dur': '4.65'} которыми люди берут курсы 1 и т.д. это\n",
      "12.69 4.65\n",
      "text {'start': '15.42', 'dur': '3.99'} сайнс потом разработка машинного\n",
      "15.42 3.99\n",
      "text {'start': '17.34', 'dur': '5.07'} обучения разработчик машину обучение\n",
      "17.34 5.07\n",
      "text {'start': '19.41', 'dur': '4.82'} потом инфраструктуру больших данных и 4\n",
      "19.41 4.82\n",
      "text {'start': '22.41', 'dur': '5.09'} это анализ данных прикладных науках\n",
      "22.41 5.09\n",
      "text {'start': '24.23', 'dur': '5.41'} очевидно что да это саенс это больше про\n",
      "24.23 5.41\n",
      "text {'start': '27.5', 'dur': '4.3'} прототипирование тестирование каких-то\n",
      "27.5 4.3\n",
      "text {'start': '29.64', 'dur': '3.829'} вещей то есть реализация на коленке\n",
      "29.64 3.829\n",
      "text {'start': '31.8', 'dur': '4.02'} быстро чтобы что-то проверить\n",
      "31.8 4.02\n",
      "text {'start': '33.469', 'dur': '4.121'} проанализировать разработчику машину\n",
      "33.469 4.121\n",
      "text {'start': '35.82', 'dur': '4.32'} обучение чуть более глубоко когда уже\n",
      "35.82 4.32\n",
      "text {'start': '37.59', 'dur': '4.02'} нужно код внедрять продакшен то есть\n",
      "37.59 4.02\n",
      "text {'start': '40.14', 'dur': '3.54'} чуть ближе к компьютер сайнс\n",
      "40.14 3.54\n",
      "text {'start': '41.61', 'dur': '4.26'} инфраструктуру больших данных это уже\n",
      "41.61 4.26\n",
      "text {'start': '43.68', 'dur': '3.09'} гораздо более серьезный компьютер сайнс\n",
      "43.68 3.09\n",
      "text {'start': '45.87', 'dur': '5.369'} ведет там кстати\n",
      "45.87 5.369\n",
      "text {'start': '46.77', 'dur': '6.269'} макс бабенко и это уже для людей которые\n",
      "46.77 6.269\n",
      "text {'start': '51.239', 'dur': '5.431'} хотят удариться именно программирование\n",
      "51.239 5.431\n",
      "text {'start': '53.039', 'dur': '8'} и четвертое направление это внедрение\n",
      "53.039 8\n",
      "text {'start': '56.67', 'dur': '7.11'} дейта сайнс инструментов не войти\n",
      "56.67 7.11\n",
      "text {'start': '61.039', 'dur': '4.45'} я подумал что больше всего мне подходит\n",
      "61.039 4.45\n",
      "text {'start': '63.78', 'dur': '3.18'} разработчик машину обучения поскольку\n",
      "63.78 3.18\n",
      "text {'start': '65.489', 'dur': '3.481'} разобраться с тем как работает\n",
      "65.489 3.481\n",
      "text {'start': '66.96', 'dur': '5.07'} продакшене немножко познакомиться\n",
      "66.96 5.07\n",
      "text {'start': '68.97', 'dur': '6.649'} поближе с компьютер санс есть смысл но\n",
      "68.97 6.649\n",
      "text {'start': '72.03', 'dur': '6.99'} при этом сильно слишком подгружаться в\n",
      "72.03 6.99\n",
      "text {'start': '75.619', 'dur': '6.701'} разработку в продакшен не стоит поэтому\n",
      "75.619 6.701\n",
      "text {'start': '79.02', 'dur': '6.57'} не дня барыбино возможно пошел бы туда\n",
      "79.02 6.57\n",
      "text {'start': '82.32', 'dur': '7.56'} сейчас если бы там прошел свою фш от\n",
      "82.32 7.56\n",
      "text {'start': '85.59', 'dur': '6.389'} что на 6 лет раньше вот так вот такие\n",
      "85.59 6.389\n",
      "text {'start': '89.88', 'dur': '3.33'} направления видим и на них вы пойдете\n",
      "89.88 3.33\n",
      "text {'start': '91.979', 'dur': '4.35'} камера следующем году кто будет\n",
      "91.979 4.35\n",
      "text {'start': '93.21', 'dur': '6.96'} поступать вторая мысль главные слова в\n",
      "93.21 6.96\n",
      "text {'start': '96.329', 'dur': '7.08'} шади это боль и страдания почему так\n",
      "96.329 7.08\n",
      "text {'start': '100.17', 'dur': '5.309'} потому что очень много учебы очень много\n",
      "100.17 5.309\n",
      "text {'start': '103.409', 'dur': '4.011'} учебы очень много дедлайнов и все это\n",
      "103.409 4.011\n",
      "text {'start': '105.479', 'dur': '3.861'} нужно сдавать\n",
      "105.479 3.861\n",
      "text {'start': '107.42', 'dur': '5.19'} и на это нужно очень много инвестировать\n",
      "107.42 5.19\n",
      "text {'start': '109.34', 'dur': '5.34'} времени поэтому входи с подачи господина\n",
      "109.34 5.34\n",
      "text {'start': '112.61', 'dur': '5.549'} рига рабского принято говорить что вот\n",
      "112.61 5.549\n",
      "text {'start': '114.68', 'dur': '5.7'} эту задачу там я стал с большим\n",
      "114.68 5.7\n",
      "text {'start': '118.159', 'dur': '5.371'} количеством страданий а вот здесь будет\n",
      "118.159 5.371\n",
      "text {'start': '120.38', 'dur': '4.62'} много боли а вот здесь будет еще\n",
      "120.38 4.62\n",
      "text {'start': '123.53', 'dur': '4.82'} какие-то страдаю здесь заканчивается\n",
      "123.53 4.82\n",
      "text {'start': '125', 'dur': '5.489'} самое веселое начинается боль\n",
      "125 5.489\n",
      "text {'start': '128.35', 'dur': '5.62'} забавный звучит но в этом есть на самом\n",
      "128.35 5.62\n",
      "text {'start': '130.489', 'dur': '5.871'} деле смысл shot такая штука которая\n",
      "130.489 5.871\n",
      "text {'start': '133.97', 'dur': '5.46'} заставляет тебя инвестирует туда время\n",
      "133.97 5.46\n",
      "text {'start': '136.36', 'dur': '6.4'} задание не то что прям сильно руки танцы\n",
      "136.36 6.4\n",
      "text {'start': '139.43', 'dur': '4.71'} они не простые но решаемые но главное\n",
      "139.43 4.71\n",
      "text {'start': '142.76', 'dur': '3.229'} чтоб решит нужно очень много времени\n",
      "142.76 3.229\n",
      "text {'start': '144.14', 'dur': '5.37'} потратить заданий очень много\n",
      "144.14 5.37\n",
      "text {'start': '145.989', 'dur': '6.161'} если ты готов потратить это время то ты\n",
      "145.989 6.161\n",
      "text {'start': '149.51', 'dur': '4.979'} учишься в шаре все круто и потом\n",
      "149.51 4.979\n",
      "text {'start': '152.15', 'dur': '3.059'} выходишь толковым да это sandy стали\n",
      "152.15 3.059\n",
      "text {'start': '154.489', 'dur': '3.361'} разработчиком\n",
      "154.489 3.361\n",
      "text {'start': '155.209', 'dur': '5.61'} если ты не готов это время тратить то\n",
      "155.209 5.61\n",
      "text {'start': '157.85', 'dur': '4.74'} досвидание тебя погоняют интересно как\n",
      "157.85 4.74\n",
      "text {'start': '160.819', 'dur': '3.991'} эта мысль контрастирует с современными\n",
      "160.819 3.991\n",
      "text {'start': '162.59', 'dur': '4.59'} понятию образование про геймификация\n",
      "162.59 4.59\n",
      "text {'start': '164.81', 'dur': '5.07'} попытка заинтересовать людей в обучении\n",
      "164.81 5.07\n",
      "text {'start': '167.18', 'dur': '4.5'} мотивирует все дела наверное две штуки\n",
      "167.18 4.5\n",
      "text {'start': '169.88', 'dur': '3.6'} все работают конечно может быть как то\n",
      "169.88 3.6\n",
      "text {'start': '171.68', 'dur': '4.32'} их можно использовать чтобы обучать\n",
      "171.68 4.32\n",
      "text {'start': '173.48', 'dur': '5.03'} наверно каким-то вещам попроще но когда\n",
      "173.48 5.03\n",
      "text {'start': '176', 'dur': '5.519'} начинается какой-то хардкор став типа\n",
      "176 5.519\n",
      "text {'start': '178.51', 'dur': '5.5'} дейта сайнс компьютер sunshine вам\n",
      "178.51 5.5\n",
      "text {'start': '181.519', 'dur': '5.731'} подобное тут к сожалению нужно взять всю\n",
      "181.519 5.731\n",
      "text {'start': '184.01', 'dur': '6.12'} мотивацию свои руки приготовиться к боли\n",
      "184.01 6.12\n",
      "text {'start': '187.25', 'dur': '4.89'} и страданиям и мочить и только тогда\n",
      "187.25 4.89\n",
      "text {'start': '190.13', 'dur': '5.16'} будет результат если так не сделать\n",
      "190.13 5.16\n",
      "text {'start': '192.14', 'dur': '4.86'} результаты не будет поэтому gimme\n",
      "192.14 4.86\n",
      "text {'start': '195.29', 'dur': '5.31'} фикации это здорово но\n",
      "195.29 5.31\n",
      "text {'start': '197', 'dur': '5.72'} старые добрые упорной работы никуда не\n",
      "197 5.72\n",
      "text {'start': '200.6', 'dur': '7.02'} девалось хотите добиться результата\n",
      "200.6 7.02\n",
      "text {'start': '202.72', 'dur': '6.24'} обучение другого пути нет ну и еще одна\n",
      "202.72 6.24\n",
      "text {'start': '207.62', 'dur': '5.73'} мысль\n",
      "207.62 5.73\n",
      "text {'start': '208.96', 'dur': '8.49'} цитат одного японского мудреца боль\n",
      "208.96 8.49\n",
      "text {'start': '213.35', 'dur': '6.96'} неизбежно а вот страдания это ваш выбор\n",
      "213.35 6.96\n",
      "text {'start': '217.45', 'dur': '5.47'} поэтому я надеюсь что у меня в обучение\n",
      "217.45 5.47\n",
      "text {'start': '220.31', 'dur': '4.43'} более будет достаточно но вывод от\n",
      "220.31 4.43\n",
      "text {'start': '222.92', 'dur': '4.59'} страданий я постараюсь избавиться\n",
      "222.92 4.59\n",
      "text {'start': '224.74', 'dur': '7.87'} следующий раз расскажу как справился с\n",
      "224.74 7.87\n",
      "text {'start': '227.51', 'dur': '14.97'} алгоритмами плюсами и сервером до связи\n",
      "227.51 14.97\n",
      "text {'start': '232.61', 'dur': '9.87'} [музыка]\n",
      "232.61 9.87\n"
     ]
    }
   ],
   "source": [
    "for child in root:\n",
    "    print(child.tag, child.attrib, child.text)\n",
    "    print(child.attrib['start'], child.attrib['dur'])"
   ]
  },
  {
   "cell_type": "code",
   "execution_count": 49,
   "metadata": {},
   "outputs": [
    {
     "data": {
      "text/plain": [
       "'5.25'"
      ]
     },
     "execution_count": 49,
     "metadata": {},
     "output_type": "execute_result"
    }
   ],
   "source": [
    "root[0].attrib['dur']"
   ]
  },
  {
   "cell_type": "code",
   "execution_count": 10,
   "metadata": {},
   "outputs": [
    {
     "name": "stderr",
     "output_type": "stream",
     "text": [
      "chunk:   5%|▍         | 265/5319 [00:00<00:01, 2648.40it/s, now=None]"
     ]
    },
    {
     "name": "stdout",
     "output_type": "stream",
     "text": [
      "MoviePy - Writing audio in audio.wav\n"
     ]
    },
    {
     "name": "stderr",
     "output_type": "stream",
     "text": [
      "                                                                      "
     ]
    },
    {
     "name": "stdout",
     "output_type": "stream",
     "text": [
      "MoviePy - Done.\n"
     ]
    },
    {
     "name": "stderr",
     "output_type": "stream",
     "text": [
      "\r"
     ]
    }
   ],
   "source": [
    "my_clip = mp.VideoFileClip(video)\n",
    "my_clip.audio.write_audiofile(r'audio.wav')"
   ]
  },
  {
   "cell_type": "code",
   "execution_count": 88,
   "metadata": {
    "scrolled": true
   },
   "outputs": [
    {
     "name": "stdout",
     "output_type": "stream",
     "text": [
      "exporting chunk0.wav\n",
      "exporting chunk1.wav\n",
      "exporting chunk2.wav\n",
      "exporting chunk3.wav\n",
      "exporting chunk4.wav\n"
     ]
    }
   ],
   "source": [
    "sound_file = AudioSegment.from_wav('audio1.wav')\n",
    "audio_chuncks = split_on_silence(sound_file,\n",
    "                                min_silence_len=50,\n",
    "                                silence_thresh=-20)\n",
    "for i, chunk in enumerate(audio_chuncks):\n",
    "    out_file = f'chunk{i}.wav'\n",
    "    print('exporting', out_file)\n",
    "    chunk.export(out_file, format='wav')"
   ]
  },
  {
   "cell_type": "code",
   "execution_count": 20,
   "metadata": {},
   "outputs": [],
   "source": [
    "start = float(root[25].attrib['start'])\n",
    "stop = float(root[28].attrib['start'])"
   ]
  },
  {
   "cell_type": "code",
   "execution_count": 17,
   "metadata": {},
   "outputs": [
    {
     "name": "stdout",
     "output_type": "stream",
     "text": [
      "Moviepy - Running:\n",
      ">>> \"+ \" \".join(cmd)\n",
      "Moviepy - Command successful\n"
     ]
    }
   ],
   "source": [
    "ffmpeg_extract_subclip('video1.mp4', start, stop, targetname='test.mp4')"
   ]
  },
  {
   "cell_type": "code",
   "execution_count": 66,
   "metadata": {},
   "outputs": [
    {
     "data": {
      "text/plain": [
       "'прототипирование тестирование каких-то'"
      ]
     },
     "execution_count": 66,
     "metadata": {},
     "output_type": "execute_result"
    }
   ],
   "source": [
    "root[11].text"
   ]
  },
  {
   "cell_type": "code",
   "execution_count": 18,
   "metadata": {},
   "outputs": [
    {
     "name": "stderr",
     "output_type": "stream",
     "text": [
      "                                                        "
     ]
    },
    {
     "name": "stdout",
     "output_type": "stream",
     "text": [
      "MoviePy - Writing audio in audio1.wav\n",
      "MoviePy - Done.\n"
     ]
    },
    {
     "name": "stderr",
     "output_type": "stream",
     "text": [
      "\r"
     ]
    }
   ],
   "source": [
    "my_clip = mp.VideoFileClip('test.mp4')\n",
    "my_clip.audio.write_audiofile(r'audio1.wav')"
   ]
  },
  {
   "cell_type": "code",
   "execution_count": 19,
   "metadata": {},
   "outputs": [
    {
     "data": {
      "image/png": "[encoded data removed]",
      "text/plain": [
       "<Figure size 432x288 with 1 Axes>"
      ]
     },
     "metadata": {
      "needs_background": "light"
     },
     "output_type": "display_data"
    }
   ],
   "source": [
    "spf = wave.open('audio1.wav', 'r')\n",
    "\n",
    "signal = spf.readframes(-1)\n",
    "signal = np.fromstring(signal, 'Int16')\n",
    "\n",
    "plt.figure(1)\n",
    "plt.plot(signal)\n",
    "plt.show()"
   ]
  },
  {
   "cell_type": "code",
   "execution_count": 96,
   "metadata": {},
   "outputs": [
    {
     "data": {
      "text/plain": [
       "'я подумал что больше всего мне подходит'"
      ]
     },
     "execution_count": 96,
     "metadata": {},
     "output_type": "execute_result"
    }
   ],
   "source": [
    "root[25].text"
   ]
  },
  {
   "cell_type": "code",
   "execution_count": 7,
   "metadata": {},
   "outputs": [],
   "source": [
    "def transcribe_gcs_with_word_time_offsets(gcs_uri):\n",
    "    \"\"\"Transcribe the given audio file asynchronously and output the word time\n",
    "    offsets.\"\"\"\n",
    "    from google.cloud import speech\n",
    "\n",
    "    client = speech.SpeechClient()\n",
    "\n",
    "    audio = speech.RecognitionAudio(uri=gcs_uri)\n",
    "    config = speech.RecognitionConfig(\n",
    "        encoding=speech.RecognitionConfig.AudioEncoding.FLAC,\n",
    "        sample_rate_hertz=16000,\n",
    "        language_code=\"ru-RU\",\n",
    "        enable_word_time_offsets=True,\n",
    "    )\n",
    "\n",
    "    operation = client.long_running_recognize(config=config, audio=audio)\n",
    "\n",
    "    print(\"Waiting for operation to complete...\")\n",
    "    result = operation.result(timeout=90)\n",
    "\n",
    "    for result in result.results:\n",
    "        alternative = result.alternatives[0]\n",
    "        print(\"Transcript: {}\".format(alternative.transcript))\n",
    "        print(\"Confidence: {}\".format(alternative.confidence))\n",
    "\n",
    "        for word_info in alternative.words:\n",
    "            word = word_info.word\n",
    "            start_time = word_info.start_time\n",
    "            end_time = word_info.end_time\n",
    "\n",
    "            print(\n",
    "                f\"Word: {word}, start_time: {start_time.total_seconds()}, end_time: {end_time.total_seconds()}\"\n",
    "            )\n"
   ]
  },
  {
   "cell_type": "code",
   "execution_count": 8,
   "metadata": {},
   "outputs": [
    {
     "ename": "ModuleNotFoundError",
     "evalue": "No module named 'google.cloud'",
     "output_type": "error",
     "traceback": [
      "\u001b[0;31m---------------------------------------------------------------------------\u001b[0m",
      "\u001b[0;31mModuleNotFoundError\u001b[0m                       Traceback (most recent call last)",
      "\u001b[0;32m<ipython-input-8-4f2dfd0a5aa8>\u001b[0m in \u001b[0;36m<module>\u001b[0;34m\u001b[0m\n\u001b[0;32m----> 1\u001b[0;31m \u001b[0mtranscribe_gcs_with_word_time_offsets\u001b[0m\u001b[0;34m(\u001b[0m\u001b[0;34m'audio1.wav'\u001b[0m\u001b[0;34m)\u001b[0m\u001b[0;34m\u001b[0m\u001b[0;34m\u001b[0m\u001b[0m\n\u001b[0m",
      "\u001b[0;32m<ipython-input-7-30982ed21616>\u001b[0m in \u001b[0;36mtranscribe_gcs_with_word_time_offsets\u001b[0;34m(gcs_uri)\u001b[0m\n\u001b[1;32m      2\u001b[0m     \"\"\"Transcribe the given audio file asynchronously and output the word time\n\u001b[1;32m      3\u001b[0m     offsets.\"\"\"\n\u001b[0;32m----> 4\u001b[0;31m     \u001b[0;32mfrom\u001b[0m \u001b[0mgoogle\u001b[0m\u001b[0;34m.\u001b[0m\u001b[0mcloud\u001b[0m \u001b[0;32mimport\u001b[0m \u001b[0mspeech\u001b[0m\u001b[0;34m\u001b[0m\u001b[0;34m\u001b[0m\u001b[0m\n\u001b[0m\u001b[1;32m      5\u001b[0m \u001b[0;34m\u001b[0m\u001b[0m\n\u001b[1;32m      6\u001b[0m     \u001b[0mclient\u001b[0m \u001b[0;34m=\u001b[0m \u001b[0mspeech\u001b[0m\u001b[0;34m.\u001b[0m\u001b[0mSpeechClient\u001b[0m\u001b[0;34m(\u001b[0m\u001b[0;34m)\u001b[0m\u001b[0;34m\u001b[0m\u001b[0;34m\u001b[0m\u001b[0m\n",
      "\u001b[0;31mModuleNotFoundError\u001b[0m: No module named 'google.cloud'"
     ]
    }
   ],
   "source": [
    "transcribe_gcs_with_word_time_offsets('audio1.wav')"
   ]
  },
  {
   "cell_type": "code",
   "execution_count": null,
   "metadata": {},
   "outputs": [],
   "source": []
  }
 ],
 "metadata": {
  "kernelspec": {
   "display_name": "Python 3",
   "language": "python",
   "name": "python3"
  },
  "language_info": {
   "codemirror_mode": {
    "name": "ipython",
    "version": 3
   },
   "file_extension": ".py",
   "mimetype": "text/x-python",
   "name": "python",
   "nbconvert_exporter": "python",
   "pygments_lexer": "ipython3",
   "version": "3.8.5"
  }
 },
 "nbformat": 4,
 "nbformat_minor": 4
}
