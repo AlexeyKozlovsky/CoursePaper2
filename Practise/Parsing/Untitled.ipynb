{
 "cells": [
  {
   "cell_type": "code",
   "execution_count": 2,
   "metadata": {},
   "outputs": [],
   "source": [
    "import os\n",
    "import subprocess\n",
    "import json\n",
    "import math\n",
    "\n",
    "import vosk\n",
    "import librosa\n",
    "import numpy\n",
    "import pandas"
   ]
  },
  {
   "cell_type": "code",
   "execution_count": 3,
   "metadata": {},
   "outputs": [],
   "source": [
    "def extract_words(res):\n",
    "    jres = json.loads(res)\n",
    "    if not 'result' in jres:\n",
    "        return []\n",
    "    \n",
    "    words = jres['result']\n",
    "    return words"
   ]
  },
  {
   "cell_type": "code",
   "execution_count": 5,
   "metadata": {},
   "outputs": [],
   "source": [
    "def transcribe_words(recognizer, bytes):\n",
    "    results = []\n",
    "\n",
    "    chunk_size = 4000\n",
    "    for chunk_no in range(math.ceil(len(bytes)/chunk_size)):\n",
    "        start = chunk_no*chunk_size\n",
    "        end = min(len(bytes), (chunk_no+1)*chunk_size)\n",
    "        data = bytes[start:end]\n",
    "\n",
    "        if recognizer.AcceptWaveform(data):\n",
    "            words = extract_words(recognizer.Result())\n",
    "            results += words\n",
    "    results += extract_words(recognizer.FinalResult())\n",
    "\n",
    "    return results"
   ]
  },
  {
   "cell_type": "code",
   "execution_count": 6,
   "metadata": {},
   "outputs": [],
   "source": [
    "def main():\n",
    "\n",
    "    vosk.SetLogLevel(-1)\n",
    "\n",
    "    audio_path = sys.argv[1]\n",
    "    out_path = sys.argv[2]\n",
    "\n",
    "    model_path = 'vosk-model-small-de-0.15'\n",
    "    sample_rate = 16000\n",
    "\n",
    "    audio, sr = librosa.load(audio_path, sr=16000)\n",
    "\n",
    "    # convert to 16bit signed PCM, as expected by VOSK\n",
    "    int16 = numpy.int16(audio * 32768).tobytes()\n",
    "\n",
    "    # XXX: Model must be downloaded from https://alphacephei.com/vosk/models\n",
    "    # https://alphacephei.com/vosk/models/vosk-model-small-de-0.15.zip\n",
    "    if not os.path.exists(model_path):\n",
    "        raise ValueError(f\"Could not find VOSK model at {model_path}\")\n",
    "\n",
    "    model = vosk.Model(model_path)\n",
    "    recognizer = vosk.KaldiRecognizer(model, sample_rate)\n",
    "\n",
    "    res = transcribe_words(recognizer, int16)\n",
    "    df = pandas.DataFrame.from_records(res)\n",
    "    df = df.sort_values('start')\n",
    "\n",
    "    df.to_csv(out_path, index=False)\n",
    "    print('Word segments saved to', out_path)"
   ]
  },
  {
   "cell_type": "code",
   "execution_count": null,
   "metadata": {},
   "outputs": [],
   "source": []
  }
 ],
 "metadata": {
  "kernelspec": {
   "display_name": "Python 3",
   "language": "python",
   "name": "python3"
  },
  "language_info": {
   "codemirror_mode": {
    "name": "ipython",
    "version": 3
   },
   "file_extension": ".py",
   "mimetype": "text/x-python",
   "name": "python",
   "nbconvert_exporter": "python",
   "pygments_lexer": "ipython3",
   "version": "3.8.5"
  }
 },
 "nbformat": 4,
 "nbformat_minor": 4
}
